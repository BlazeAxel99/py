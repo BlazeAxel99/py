{
  "nbformat": 4,
  "nbformat_minor": 0,
  "metadata": {
    "colab": {
      "name": "Kash Moulik - ISOI Python Course Examination Part 01.ipynb",
      "provenance": [],
      "collapsed_sections": []
    },
    "kernelspec": {
      "name": "python3",
      "display_name": "Python 3"
    }
  },
  "cells": [
    {
      "cell_type": "markdown",
      "metadata": {
        "id": "U4p2_uGi6UKI"
      },
      "source": [
        "#**ISOI Python Course Examination Part 01**\n",
        "\n",
        "\n",
        "---\n",
        "\n",
        "\n",
        "###Date: 11 Oct, 2020\n",
        "###Full marks: 20"
      ]
    },
    {
      "cell_type": "markdown",
      "metadata": {
        "id": "vgNBdDHC6WX5"
      },
      "source": [
        "##Q1. Write a program to know the given input year is **LeapYear** or **not**. (5)\n",
        "\n",
        "---\n",
        "\n",
        "####e.g.\n",
        "***Input:***\t2020 ***Output:***\tLeap Year\t\t\t\n",
        "***Input:***\t2019 ***Output:***\tnot Leap Year"
      ]
    },
    {
      "cell_type": "code",
      "metadata": {
        "id": "TU9GlTgO6QGr",
        "outputId": "38feda77-d828-448a-fe9b-d10747ec9e08",
        "colab": {
          "base_uri": "https://localhost:8080/",
          "height": 50
        }
      },
      "source": [
        "# Write the program here\n",
        "year = int(input(\"Please Enter the Year Number you wish: \"))\n",
        "\n",
        "if (( year%400 == 0)or (( year%4 == 0 ) and ( year%100 != 0))):\n",
        "    print(\"%d is a Leap Year\" %year)\n",
        "else:\n",
        "    print(\"%d is Not the Leap Year\" %year)"
      ],
      "execution_count": 2,
      "outputs": [
        {
          "output_type": "stream",
          "text": [
            "Please Enter the Year Number you wish: 2019\n",
            "2019 is Not the Leap Year\n"
          ],
          "name": "stdout"
        }
      ]
    },
    {
      "cell_type": "markdown",
      "metadata": {
        "id": "pPrHmE5K6XSj"
      },
      "source": [
        "##Q2. Write the same program in **while Loop**. (5)\n",
        "---\n",
        "**for i in range(10):**\n",
        "> **print(“x” * i)**"
      ]
    },
    {
      "cell_type": "code",
      "metadata": {
        "id": "7THtHI4F6X1B",
        "outputId": "d83fe71a-6b3f-41ab-a22d-74c69039f0ac",
        "colab": {
          "base_uri": "https://localhost:8080/",
          "height": 168
        }
      },
      "source": [
        "# Write the program here\n",
        "\n",
        "i=1\n",
        "while i < 10: \n",
        "\n",
        "    print (\"x\"*i)\n",
        "    i+=1\n"
      ],
      "execution_count": 26,
      "outputs": [
        {
          "output_type": "stream",
          "text": [
            "x\n",
            "xx\n",
            "xxx\n",
            "xxxx\n",
            "xxxxx\n",
            "xxxxxx\n",
            "xxxxxxx\n",
            "xxxxxxxx\n",
            "xxxxxxxxx\n"
          ],
          "name": "stdout"
        }
      ]
    },
    {
      "cell_type": "code",
      "metadata": {
        "id": "kRSldu2NEJuS",
        "outputId": "3f9c932f-9bb9-42c3-bcaf-a3c2e150d725",
        "colab": {
          "base_uri": "https://localhost:8080/",
          "height": 185
        }
      },
      "source": [
        "#for i in range(10):\n",
        "    #print((\"x\"*i))    "
      ],
      "execution_count": 25,
      "outputs": [
        {
          "output_type": "stream",
          "text": [
            "\n",
            "x\n",
            "xx\n",
            "xxx\n",
            "xxxx\n",
            "xxxxx\n",
            "xxxxxx\n",
            "xxxxxxx\n",
            "xxxxxxxx\n",
            "xxxxxxxxx\n"
          ],
          "name": "stdout"
        }
      ]
    },
    {
      "cell_type": "markdown",
      "metadata": {
        "id": "ZZh2Sv8g6YGQ"
      },
      "source": [
        "##Q3. Write a program, details are followed, (10)\n",
        "*   Create a blank list\n",
        "*   Create a program which will add even numbers and its multiplications with natural numbers between 0 to 10 on list such a way that the list will looks like,\n",
        "#####**[1st even, 1st even * 0, 2nd even, 2nd even * 1, 3rd even, 3rd even * 2, . . . . ]**\n",
        "*   Print the list\n",
        "*   Use sort function\n",
        "*   Print the sorted list"
      ]
    },
    {
      "cell_type": "code",
      "metadata": {
        "id": "El8R9GYu6Y8i",
        "outputId": "1e8806b4-48b6-4cac-c0d8-ccb11cfa5b11",
        "colab": {
          "base_uri": "https://localhost:8080/",
          "height": 134
        }
      },
      "source": [
        "# Write the program here\n",
        "a_list = []          \n",
        "list_length = len(a_list)\n",
        "num= input(\"the amount of even num u wanna store :\")\n",
        "num= int (num)\n",
        "list_length = num\n",
        "\n",
        "for i in range(list_length):\n",
        "\n",
        "  sum=0\n",
        "  num1=input(\"even num 1 : \")\n",
        "  num2=input(\"even num2 : \")\n",
        "  num1= int (num1)\n",
        "  num2= int (num2)\n",
        "  sum= num1 + num2 \n",
        "  a_list.insert(i,sum)\n",
        "\n",
        "print (\"a :\", a_list)\n",
        "\n",
        "\n",
        "a_list.sort()\n",
        "print (\"a :\", a_list)\n"
      ],
      "execution_count": 69,
      "outputs": [
        {
          "output_type": "stream",
          "text": [
            "the amount of even num u wanna store :2\n",
            "even num 1 : 4\n",
            "even num2 : 4\n",
            "even num 1 : 2\n",
            "even num2 : 2\n",
            "a : [8, 4]\n",
            "a : [4, 8]\n"
          ],
          "name": "stdout"
        }
      ]
    }
  ]
}